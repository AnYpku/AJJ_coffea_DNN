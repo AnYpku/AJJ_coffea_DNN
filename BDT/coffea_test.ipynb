{
 "cells": [
  {
   "cell_type": "code",
   "execution_count": null,
   "id": "0254b488",
   "metadata": {},
   "outputs": [],
   "source": [
    "import uproot\n",
    "import glob\n",
    "import pandas as pd\n",
    "from tqdm import tqdm\n",
    "import numpy as np\n",
    "import matplotlib.pyplot as plt\n",
    "from coffea.jetmet_tools import JECStack, CorrectedJetsFactory\n",
    "from coffea.nanoevents import NanoEventsFactory, BaseSchema, NanoAODSchema\n",
    "from coffea.nanoevents.methods import candidate\n",
    "from coffea.lumi_tools import LumiMask\n",
    "from coffea.lookup_tools import extractor\n",
    "from coffea.util import save"
   ]
  },
  {
   "cell_type": "code",
   "execution_count": null,
   "id": "86e61b16",
   "metadata": {},
   "outputs": [],
   "source": [
    "import awkward as ak\n",
    "from coffea import lookup_tools"
   ]
  },
  {
   "cell_type": "code",
   "execution_count": null,
   "id": "7313dbbb",
   "metadata": {},
   "outputs": [],
   "source": [
    "#dir_prefix='root://cms-xrd-global.cern.ch/'\n",
    "dir_prefix='root://cmsxrootd.fnal.gov/'"
   ]
  },
  {
   "cell_type": "code",
   "execution_count": null,
   "id": "65b37065",
   "metadata": {},
   "outputs": [],
   "source": [
    "root='/store/mc/RunIISummer20UL18NanoAODv9/DYJetsToLL_M-50_TuneCP5_13TeV-amcatnloFXFX-pythia8/NANOAODSIM/106X_upgrade2018_realistic_v16_L1v1-v2/230000/00EA9563-5449-D24E-9566-98AE8E2A61AE.root'\n"
   ]
  },
  {
   "cell_type": "code",
   "execution_count": null,
   "id": "87d4b139",
   "metadata": {},
   "outputs": [],
   "source": [
    "print(root)"
   ]
  },
  {
   "cell_type": "code",
   "execution_count": null,
   "id": "45c895e8",
   "metadata": {},
   "outputs": [],
   "source": [
    "data='/eos/cms/store/data/Run2018A/EGamma/NANOAOD/UL2018_MiniAODv2_NanoAODv9-v1/270000/00B7FFB1-3455-C941-AE3B-CF7085966A41.root'"
   ]
  },
  {
   "cell_type": "code",
   "execution_count": null,
   "id": "a94ecf26",
   "metadata": {},
   "outputs": [],
   "source": [
    "events=NanoEventsFactory.from_root(data, schemaclass=NanoAODSchema).events()"
   ]
  },
  {
   "cell_type": "code",
   "execution_count": null,
   "id": "1fc4c5bd",
   "metadata": {},
   "outputs": [],
   "source": [
    "ext = extractor()"
   ]
  },
  {
   "cell_type": "code",
   "execution_count": null,
   "id": "90218010",
   "metadata": {},
   "outputs": [],
   "source": [
    "events = events[events.Flag.goodVertices & events.Flag.globalSuperTightHalo2016Filter & events.Flag.HBHENoiseFilter & events.Flag.HBHENoiseIsoFilter & events.Flag.EcalDeadCellTriggerPrimitiveFilter & events.Flag.BadPFMuonFilter & events.Flag.BadPFMuonDzFilter & events.Flag.eeBadScFilter & events.Flag.ecalBadCalibFilter]\n",
    "events = events[(ak.num(events.Jet) > 1) & ((ak.num(events.Muon) > 1) | (ak.num(events.Electron) > 1))]\n"
   ]
  },
  {
   "cell_type": "code",
   "execution_count": null,
   "id": "06268d61",
   "metadata": {},
   "outputs": [],
   "source": [
    "tight_muons = events.Muon[events.Muon.tightId & (events.Muon.pfRelIso04_all < 0.15) & (events.Muon.pt > 10) & (abs(events.Muon.eta) < 2.4)]\n",
    "tight_electrons = events.Electron[(events.Electron.pt > 10) & (events.Electron.mvaFall17V2Iso_WP80) & (abs(events.Electron.eta + events.Electron.deltaEtaSC) < 2.5) & (((abs(events.Electron.dz) < 0.1) & (abs(events.Electron.dxy) < 0.05) & (abs(events.Electron.eta + events.Electron.deltaEtaSC) < 1.479)) | ((abs(events.Electron.dz) < 0.2) & (abs(events.Electron.dxy) < 0.1) & (abs(events.Electron.eta + events.Electron.deltaEtaSC) > 1.479)))]\n"
   ]
  },
  {
   "cell_type": "code",
   "execution_count": null,
   "id": "fde83d75",
   "metadata": {},
   "outputs": [],
   "source": [
    "corrected_jets = events.Jet\n",
    "jet_pt = events.Jet.pt\n",
    "jet_pt_jesup = events.Jet.pt\n",
    "jet_pt_jesdn = events.Jet.pt"
   ]
  },
  {
   "cell_type": "code",
   "execution_count": null,
   "id": "0322400a",
   "metadata": {},
   "outputs": [],
   "source": [
    "tight_jets=corrected_jets[(corrected_jets.jetId==6) & (corrected_jets.pt>30) & (abs(corrected_jets.eta)<4.7)]"
   ]
  },
  {
   "cell_type": "code",
   "execution_count": null,
   "id": "47fa1a8a",
   "metadata": {},
   "outputs": [],
   "source": [
    "tight_jets = tight_jets[(ak.num(tight_jets)>1)]\n",
    "tight_muons= tight_muons[(ak.num(tight_jets)>1)]\n",
    "tight_electrons= tight_electrons[(ak.num(tight_jets)>1)]\n",
    "basejet_cut = ( (tight_jets[:,0]+tight_jets[:,1]).mass > 500 )\n",
    "print('length: ',len(tight_jets),' ',len(tight_muons),len(tight_electrons))"
   ]
  },
  {
   "cell_type": "code",
   "execution_count": null,
   "id": "f75ee1ad",
   "metadata": {},
   "outputs": [],
   "source": [
    "CRmm = ( (ak.num(tight_muons)>1) & (ak.num(tight_jets)>1) )\n",
    "sel1_muons=tight_muons[CRmm & basejet_cut]\n",
    "sel1_events=events[CRmm & basejet_cut]\n",
    "sel1_jets=tight_jets[CRmm & basejet_cut]\n",
    "print(len(sel1_events))"
   ]
  },
  {
   "cell_type": "code",
   "execution_count": null,
   "id": "72bfac62",
   "metadata": {},
   "outputs": [],
   "source": [
    "sel1_muons.pt"
   ]
  },
  {
   "cell_type": "code",
   "execution_count": null,
   "id": "1c275ab6",
   "metadata": {},
   "outputs": [],
   "source": [
    "CRmm_cut = ( (abs((sel1_muons[:,0]+sel1_muons[:,1]).mass-91)<15) & ((sel1_muons[:,0]+sel1_muons[:,1]).pt>70) )\n",
    "sel1_muons=sel1_muons[CRmm_cut]\n",
    "sel1_jets=sel1_jets[CRmm_cut]\n",
    "sel1_events=sel1_events[CRmm_cut]\n",
    "print(len(sel1_jets))"
   ]
  },
  {
   "cell_type": "code",
   "execution_count": null,
   "id": "f45a9fd4",
   "metadata": {},
   "outputs": [],
   "source": [
    "(sel1_muons[:,0]+sel1_muons[:,1]).mass"
   ]
  },
  {
   "cell_type": "code",
   "execution_count": null,
   "id": "70a028b9",
   "metadata": {},
   "outputs": [],
   "source": [
    "CRee = ( (ak.num(tight_electrons)>1) & (ak.num(tight_jets)>1) )\n",
    "sel2_eles  = tight_electrons[CRee & basejet_cut]\n",
    "sel2_events=events[CRee & basejet_cut]\n",
    "sel2_jets  =tight_jets[CRee & basejet_cut]\n",
    "print('length: ',len(sel2_jets))"
   ]
  },
  {
   "cell_type": "code",
   "execution_count": null,
   "id": "ddd39abf",
   "metadata": {},
   "outputs": [],
   "source": [
    "CRee_cut= ( (abs((sel2_eles[:,0]+sel2_eles[:,1]).mass-91)<15) & ((sel2_eles[:,0]+sel2_eles[:,1]).pt>70) )\n",
    "sel2_eles = sel2_eles[CRee_cut]\n",
    "sel2_jets = sel2_jets[CRee_cut]\n",
    "sel2_events = sel2_events[CRee_cut]\n",
    "print('length: ',len(sel2_jets))"
   ]
  },
  {
   "cell_type": "code",
   "execution_count": null,
   "id": "f6f7680b",
   "metadata": {},
   "outputs": [],
   "source": [
    "sel1_muons.pdgId"
   ]
  },
  {
   "cell_type": "code",
   "execution_count": null,
   "id": "26f0f46d",
   "metadata": {},
   "outputs": [],
   "source": [
    "sel2_eles.pdgId[0,0]"
   ]
  },
  {
   "cell_type": "code",
   "execution_count": null,
   "id": "7e92ea45",
   "metadata": {},
   "outputs": [],
   "source": [
    "(sel2_eles[:,0]+sel2_eles[:,1]).mass"
   ]
  },
  {
   "cell_type": "code",
   "execution_count": null,
   "id": "c1ea2d5d",
   "metadata": {},
   "outputs": [],
   "source": [
    "ak.count(tight_muons.pt,axis=1)"
   ]
  },
  {
   "cell_type": "code",
   "execution_count": null,
   "id": "a0948f2d",
   "metadata": {},
   "outputs": [],
   "source": [
    "ak.num(tight_muons)"
   ]
  },
  {
   "cell_type": "code",
   "execution_count": null,
   "id": "5dad871f",
   "metadata": {},
   "outputs": [],
   "source": [
    "SR_events=events[(ak.num(events.Photon)>0)]"
   ]
  },
  {
   "cell_type": "code",
   "execution_count": null,
   "id": "336d55d9",
   "metadata": {},
   "outputs": [],
   "source": [
    "SR_events.Photon.pt"
   ]
  },
  {
   "cell_type": "code",
   "execution_count": null,
   "id": "f1aa519b",
   "metadata": {},
   "outputs": [],
   "source": [
    "tight_photons=SR_events.Photon[(ak.num(events.Photon)>0) & (events.Photon.pt>70) & (events.Photon.cutBased==3) & (events.Photon.pixelSeed==0) ]"
   ]
  },
  {
   "cell_type": "code",
   "execution_count": null,
   "id": "1557fb20",
   "metadata": {},
   "outputs": [],
   "source": [
    "events.Photon.vidNestedWPBitmap"
   ]
  },
  {
   "cell_type": "code",
   "execution_count": null,
   "id": "d3739a33",
   "metadata": {},
   "outputs": [],
   "source": [
    "basecut_mu=( (ak.num(tight_muons)>1) & (ak.num(tight_jets)>1))"
   ]
  },
  {
   "cell_type": "code",
   "execution_count": null,
   "id": "8508f7c0",
   "metadata": {},
   "outputs": [],
   "source": [
    "tight_muons=tight_muons[basecut_mu]"
   ]
  },
  {
   "cell_type": "code",
   "execution_count": null,
   "id": "a1cf6219",
   "metadata": {},
   "outputs": [],
   "source": [
    "tight_jets=tight_jets[basecut_mu]\n",
    "events_muon=events[basecut_mu]"
   ]
  },
  {
   "cell_type": "code",
   "execution_count": null,
   "id": "1b7310fd",
   "metadata": {},
   "outputs": [],
   "source": [
    "tight_jets.pt"
   ]
  },
  {
   "cell_type": "code",
   "execution_count": null,
   "id": "bc7558a4",
   "metadata": {},
   "outputs": [],
   "source": [
    "cut1=( ((tight_jets[:,0]+tight_jets[:,1]).mass > 500))\n",
    "cut2=( (abs((tight_muons[:,0]+tight_muons[:,1]).mass-91)<15) & ((tight_muons[:,0]+tight_muons[:,1]).pt>200) )"
   ]
  },
  {
   "cell_type": "code",
   "execution_count": null,
   "id": "ae06e6ff",
   "metadata": {},
   "outputs": [],
   "source": [
    "cut3=( (abs((tight_muons[:,0]+tight_muons[:,1]).mass-91)<15) & ((tight_muons[:,0]+tight_muons[:,1]).pt>75) & ((tight_muons[:,0]+tight_muons[:,1]).pt<200))\n"
   ]
  },
  {
   "cell_type": "code",
   "execution_count": null,
   "id": "d53579b9",
   "metadata": {},
   "outputs": [],
   "source": [
    "sel12_events=events_muon[cut1 & cut2]"
   ]
  },
  {
   "cell_type": "code",
   "execution_count": null,
   "id": "3687b97a",
   "metadata": {},
   "outputs": [],
   "source": [
    "sel12_muons=tight_muons[cut1 & cut2]"
   ]
  },
  {
   "cell_type": "code",
   "execution_count": null,
   "id": "d5c27c88",
   "metadata": {},
   "outputs": [],
   "source": [
    "sel12_jets=tight_jets[cut1 & cut2]"
   ]
  },
  {
   "cell_type": "code",
   "execution_count": null,
   "id": "f6f2fcbc",
   "metadata": {},
   "outputs": [],
   "source": [
    "zmm=sel12_muons[:,0]+sel12_muons[:,1]"
   ]
  },
  {
   "cell_type": "code",
   "execution_count": null,
   "id": "989ce147",
   "metadata": {},
   "outputs": [],
   "source": [
    "jj=sel12_jets[:,0]+sel12_jets[:,1]"
   ]
  },
  {
   "cell_type": "code",
   "execution_count": null,
   "id": "42d67b2a",
   "metadata": {},
   "outputs": [],
   "source": [
    "sel12_muons.pt[13]"
   ]
  },
  {
   "cell_type": "code",
   "execution_count": null,
   "id": "07f18d2d",
   "metadata": {},
   "outputs": [],
   "source": [
    "sel12_events.Muon[13]"
   ]
  },
  {
   "cell_type": "code",
   "execution_count": null,
   "id": "223e04db",
   "metadata": {},
   "outputs": [],
   "source": [
    "zmm1=sel12_events.Muon[:,0]+sel12_events.Muon[:,1]"
   ]
  },
  {
   "cell_type": "code",
   "execution_count": null,
   "id": "47bc2500",
   "metadata": {},
   "outputs": [],
   "source": [
    "ak.num(sel12_events,axis=0)"
   ]
  },
  {
   "cell_type": "code",
   "execution_count": null,
   "id": "57d505ce",
   "metadata": {},
   "outputs": [],
   "source": [
    "len(sel12_events)"
   ]
  },
  {
   "cell_type": "code",
   "execution_count": null,
   "id": "cd25665c",
   "metadata": {},
   "outputs": [],
   "source": [
    "plt.hist(zmm.mass,label = \"Z mm mass\",bins=np.linspace(50,120,50),histtype=\"step\")\n",
    "plt.hist(zmm1.mass,label = \"test\",bins=np.linspace(50,120,50),histtype=\"step\")\n",
    "plt.legend()"
   ]
  },
  {
   "cell_type": "code",
   "execution_count": null,
   "id": "09620734",
   "metadata": {},
   "outputs": [],
   "source": [
    "print(zmm.mass,'\\n',len(zmm.mass))"
   ]
  },
  {
   "cell_type": "code",
   "execution_count": null,
   "id": "30faabe2",
   "metadata": {},
   "outputs": [],
   "source": [
    "print(zmm1.mass[13],'\\n',zmm.mass[13])"
   ]
  },
  {
   "cell_type": "code",
   "execution_count": null,
   "id": "665b6166",
   "metadata": {},
   "outputs": [],
   "source": [
    "for i in range(0,len(zmm.mass)):\n",
    "    if (zmm.mass[i]-zmm1.mass[i])!=0:\n",
    "        print('difference',i,'\\t',zmm.mass[i],'\\t',zmm1.mass[i])"
   ]
  },
  {
   "cell_type": "code",
   "execution_count": null,
   "id": "05aa95b0",
   "metadata": {},
   "outputs": [],
   "source": [
    "from coffea.jetmet_tools import FactorizedJetCorrector, JetCorrectionUncertainty\n",
    "from coffea.jetmet_tools import JECStack, CorrectedJetsFactory\n",
    "import awkward as ak\n",
    "import numpy as np\n",
    "from coffea.lookup_tools.jec_uncertainty_lookup import jec_uncertainty_lookup"
   ]
  },
  {
   "cell_type": "code",
   "execution_count": null,
   "id": "d4c0d6e1",
   "metadata": {},
   "outputs": [],
   "source": [
    "ext.add_weight_sets([\n",
    "    \"* * /eos/user/y/yian/SWAN_projects/ajj_bdt/JESR_files/Summer19UL18_V5_MC_L1FastJet_AK4PFchs.txt\",\n",
    "    \"* * /eos/user/y/yian/SWAN_projects/ajj_bdt/JESR_files/Summer19UL18_V5_MC_L2Relative_AK4PFchs.txt\",\n",
    "    \"* * /eos/user/y/yian/SWAN_projects/ajj_bdt/JESR_files/Summer19UL18_V5_MC_L3Absolute_AK4PFchs.txt\",\n",
    "    \"* * /eos/user/y/yian/SWAN_projects/ajj_bdt/JESR_files/Summer19UL18_V5_MC_L2L3Residual_AK4PFchs.txt\",\n",
    "    \"* * /eos/user/y/yian/SWAN_projects/ajj_bdt/JESR_files/Summer19UL18_V5_MC_Uncertainty_AK4PFchs.junc.txt\",\n",
    "])\n",
    "ext.finalize()\n",
    "\n",
    "jec_stack_names = ['Summer19UL18_V5_MC_L1FastJet_AK4PFchs','Summer19UL18_V5_MC_L2Relative_AK4PFchs','Summer19UL18_V5_MC_L3Absolute_AK4PFchs','Summer19UL18_V5_MC_L2L3Residual_AK4PFchs','Summer19UL18_V5_MC_Uncertainty_AK4PFchs']\n",
    "#jec_stack_names = ['Summer19UL18_V5_MC_L1FastJet_AK4PFchs','Summer19UL18_V5_MC_L2Relative_AK4PFchs','Summer19UL18_V5_MC_L3Absolute_AK4PFchs','Summer19UL18_V5_MC_L2L3Residual_AK4PFchs']\n",
    "\n",
    "\n",
    "evaluator = ext.make_evaluator()\n",
    "\n",
    "jec_inputs = {name: evaluator[name] for name in jec_stack_names}\n",
    "jec_stack = JECStack(jec_inputs)\n",
    "\n",
    "print(dir(evaluator))"
   ]
  },
  {
   "cell_type": "code",
   "execution_count": null,
   "id": "1d6fe137",
   "metadata": {},
   "outputs": [],
   "source": [
    "name_map = jec_stack.blank_name_map\n",
    "name_map['JetPt'] = 'pt'\n",
    "name_map['JetMass'] = 'mass'\n",
    "name_map['JetEta'] = 'eta'\n",
    "name_map['JetA'] = 'area'\n",
    "\n",
    "jets = events.Jet\n",
    "\n",
    "jets['pt_raw'] = (1 - jets['rawFactor']) * jets['pt']\n",
    "jets['mass_raw'] = (1 - jets['rawFactor']) * jets['mass']\n",
    "jets['pt_gen'] = ak.values_astype(ak.fill_none(jets.matched_gen.pt, 0), np.float32)\n",
    "jets['rho'] = ak.broadcast_arrays(events.fixedGridRhoFastjetAll, jets.pt)[0]\n",
    "name_map['ptGenJet'] = 'pt_gen'\n",
    "name_map['ptRaw'] = 'pt_raw'\n",
    "name_map['massRaw'] = 'mass_raw'\n",
    "name_map['Rho'] = 'rho'"
   ]
  },
  {
   "cell_type": "code",
   "execution_count": null,
   "id": "f4d10031",
   "metadata": {},
   "outputs": [],
   "source": [
    "events_cache = events.caches[0]\n",
    "jet_factory = CorrectedJetsFactory(name_map, jec_stack)\n",
    "corrected_jets = jet_factory.build(jets, lazy_cache=events_cache)     "
   ]
  },
  {
   "cell_type": "code",
   "execution_count": null,
   "id": "d21dc27a",
   "metadata": {},
   "outputs": [],
   "source": [
    "print('starting columns:', set(ak.fields(jets)))\n",
    "print('new columns:', set(ak.fields(corrected_jets)) - set(ak.fields(jets)))"
   ]
  },
  {
   "cell_type": "code",
   "execution_count": null,
   "id": "99fbf5ef",
   "metadata": {},
   "outputs": [],
   "source": [
    "jet_pt = corrected_jets.pt\n",
    "jet_pt_jesup = corrected_jets.JES_jes.up.pt"
   ]
  },
  {
   "cell_type": "code",
   "execution_count": 2,
   "id": "8bc1794e",
   "metadata": {},
   "outputs": [],
   "source": [
    "from coffea.util import load\n",
    "from coffea import hist\n",
    "import matplotlib.pyplot as plt\n",
    "import mplhep as hep\n",
    "import numpy as np\n",
    "import uproot\n",
    "import argparse\n",
    "import hist"
   ]
  },
  {
   "cell_type": "code",
   "execution_count": 5,
   "id": "5af9a4db",
   "metadata": {},
   "outputs": [],
   "source": [
    "ftest = load('/eos/user/y/yian/AJJ_analysis/outfile_test.coffea')"
   ]
  },
  {
   "cell_type": "code",
   "execution_count": 6,
   "id": "03336c00",
   "metadata": {},
   "outputs": [
    {
     "name": "stdout",
     "output_type": "stream",
     "text": [
      "{'sel1_boson_pt': Hist(\n",
      "  StrCategory(['dyjets'], growth=True, name='dataset', label='Primary dataset'),\n",
      "  Regular(20, 70, 400, name='variable', label='variable'),\n",
      "  storage=Weight()) # Sum: WeightedSum(value=9557.51, variance=23232.6) (WeightedSum(value=9611.61, variance=23353.8) with flow), 'sel1_boson_mass': Hist(\n",
      "  StrCategory(['dyjets'], growth=True, name='dataset', label='Primary dataset'),\n",
      "  Regular(40, 70, 110, name='variable', label='variable'),\n",
      "  storage=Weight()) # Sum: WeightedSum(value=9611.61, variance=23353.8), 'sel1_mjj': Hist(\n",
      "  StrCategory(['dyjets'], growth=True, name='dataset', label='Primary dataset'),\n",
      "  Regular(20, 500, 2000, name='variable', label='variable'),\n",
      "  storage=Weight()) # Sum: WeightedSum(value=9495.92, variance=22996.8) (WeightedSum(value=9611.61, variance=23353.8) with flow), 'sel2_boson_pt': Hist(\n",
      "  StrCategory(['dyjets'], growth=True, name='dataset', label='Primary dataset'),\n",
      "  Regular(20, 70, 400, name='variable', label='variable'),\n",
      "  storage=Weight()) # Sum: WeightedSum(value=6609.8, variance=16141.1) (WeightedSum(value=6641.78, variance=16236.2) with flow), 'sel2_boson_mass': Hist(\n",
      "  StrCategory(['dyjets'], growth=True, name='dataset', label='Primary dataset'),\n",
      "  Regular(40, 70, 110, name='variable', label='variable'),\n",
      "  storage=Weight()) # Sum: WeightedSum(value=6641.78, variance=16236.2), 'sel2_mjj': Hist(\n",
      "  StrCategory(['dyjets'], growth=True, name='dataset', label='Primary dataset'),\n",
      "  Regular(21, 500, 2000, name='variable', label='variable'),\n",
      "  storage=Weight()) # Sum: WeightedSum(value=6542.83, variance=15986.4) (WeightedSum(value=6641.78, variance=16236.2) with flow), 'sumw': defaultdict(<class 'float'>, {'dyjets': 3322954643648.0}), 'sumsign': defaultdict(<class 'float'>, {'dyjets': 131550065.0}), 'nevents': defaultdict(<class 'float'>, {'dyjets': 195477687.0})}\n"
     ]
    }
   ],
   "source": [
    "print(ftest)"
   ]
  },
  {
   "cell_type": "code",
   "execution_count": 7,
   "id": "30b5265e",
   "metadata": {},
   "outputs": [
    {
     "data": {
      "text/plain": [
       "dict_items([('sel1_boson_pt', Hist(\n",
       "  StrCategory(['dyjets'], growth=True, name='dataset', label='Primary dataset'),\n",
       "  Regular(20, 70, 400, name='variable', label='variable'),\n",
       "  storage=Weight()) # Sum: WeightedSum(value=9557.51, variance=23232.6) (WeightedSum(value=9611.61, variance=23353.8) with flow)), ('sel1_boson_mass', Hist(\n",
       "  StrCategory(['dyjets'], growth=True, name='dataset', label='Primary dataset'),\n",
       "  Regular(40, 70, 110, name='variable', label='variable'),\n",
       "  storage=Weight()) # Sum: WeightedSum(value=9611.61, variance=23353.8)), ('sel1_mjj', Hist(\n",
       "  StrCategory(['dyjets'], growth=True, name='dataset', label='Primary dataset'),\n",
       "  Regular(20, 500, 2000, name='variable', label='variable'),\n",
       "  storage=Weight()) # Sum: WeightedSum(value=9495.92, variance=22996.8) (WeightedSum(value=9611.61, variance=23353.8) with flow)), ('sel2_boson_pt', Hist(\n",
       "  StrCategory(['dyjets'], growth=True, name='dataset', label='Primary dataset'),\n",
       "  Regular(20, 70, 400, name='variable', label='variable'),\n",
       "  storage=Weight()) # Sum: WeightedSum(value=6609.8, variance=16141.1) (WeightedSum(value=6641.78, variance=16236.2) with flow)), ('sel2_boson_mass', Hist(\n",
       "  StrCategory(['dyjets'], growth=True, name='dataset', label='Primary dataset'),\n",
       "  Regular(40, 70, 110, name='variable', label='variable'),\n",
       "  storage=Weight()) # Sum: WeightedSum(value=6641.78, variance=16236.2)), ('sel2_mjj', Hist(\n",
       "  StrCategory(['dyjets'], growth=True, name='dataset', label='Primary dataset'),\n",
       "  Regular(21, 500, 2000, name='variable', label='variable'),\n",
       "  storage=Weight()) # Sum: WeightedSum(value=6542.83, variance=15986.4) (WeightedSum(value=6641.78, variance=16236.2) with flow)), ('sumw', defaultdict(<class 'float'>, {'dyjets': 3322954643648.0})), ('sumsign', defaultdict(<class 'float'>, {'dyjets': 131550065.0})), ('nevents', defaultdict(<class 'float'>, {'dyjets': 195477687.0}))])"
      ]
     },
     "execution_count": 7,
     "metadata": {},
     "output_type": "execute_result"
    }
   ],
   "source": [
    "ftest.items()"
   ]
  },
  {
   "cell_type": "code",
   "execution_count": 8,
   "id": "a321abc1",
   "metadata": {},
   "outputs": [
    {
     "data": {
      "text/plain": [
       "[StairsArtists(stairs=<matplotlib.patches.StepPatch object at 0x7f77600a8f10>, errorbar=<ErrorbarContainer object of 3 artists>, legend_artist=<ErrorbarContainer object of 3 artists>)]"
      ]
     },
     "execution_count": 8,
     "metadata": {},
     "output_type": "execute_result"
    },
    {
     "data": {
      "image/png": "[encoded data removed]",
      "text/plain": [
       "<Figure size 432x288 with 1 Axes>"
      ]
     },
     "metadata": {
      "needs_background": "light"
     },
     "output_type": "display_data"
    }
   ],
   "source": [
    "fig, ax = plt.subplots()\n",
    "ftest['sel2_boson_pt'].plot1d(ax=ax, overlay='dataset')\n",
    "#ax.set_yscale('log')"
   ]
  },
  {
   "cell_type": "code",
   "execution_count": 9,
   "id": "c8214a63",
   "metadata": {},
   "outputs": [],
   "source": [
    "a=ftest['sel2_boson_pt'].values()"
   ]
  },
  {
   "cell_type": "code",
   "execution_count": 13,
   "id": "cbd7b61c",
   "metadata": {},
   "outputs": [
    {
     "data": {
      "text/plain": [
       "array([[2230.92642581, 1394.65467906,  911.10894954,  591.56819451,\n",
       "         444.52968782,  293.98365998,  204.58090967,  114.97221017,\n",
       "          99.99174458,   83.86678159,   57.64776891,   40.04451066,\n",
       "          26.05385536,   26.47379041,   26.02465338,   13.69601601,\n",
       "          20.94784689,   11.40558743,   11.47992849,    5.83856374]])"
      ]
     },
     "execution_count": 13,
     "metadata": {},
     "output_type": "execute_result"
    }
   ],
   "source": [
    "a"
   ]
  },
  {
   "cell_type": "code",
   "execution_count": 12,
   "id": "6b57fa72",
   "metadata": {},
   "outputs": [
    {
     "data": {
      "text/plain": [
       "array([1394.65467906])"
      ]
     },
     "execution_count": 12,
     "metadata": {},
     "output_type": "execute_result"
    }
   ],
   "source": [
    "a[:,1]"
   ]
  },
  {
   "cell_type": "code",
   "execution_count": 14,
   "id": "4cf82db3",
   "metadata": {},
   "outputs": [
    {
     "data": {
      "text/plain": [
       "array([[  0.        ,   0.        ,   0.        ,   0.        ,\n",
       "          0.        ,   0.        ,  26.12348831,  29.68631011,\n",
       "         37.37846297,  55.48905909,  58.94258261,  67.83413774,\n",
       "         75.28267807, 115.04723042, 161.56723088, 225.73316985,\n",
       "        256.95741719, 410.36928809, 522.89055979, 750.55857182,\n",
       "        899.16249591, 781.11561221, 731.54494363, 418.52382833,\n",
       "        319.74602795, 199.2093032 , 128.77106172, 100.86370945,\n",
       "         61.37798911,  40.05990696,  32.786542  ,  25.91077924,\n",
       "         33.47601968,  25.37405312,  29.76656824,  20.22797424,\n",
       "          0.        ,   0.        ,   0.        ,   0.        ]])"
      ]
     },
     "execution_count": 14,
     "metadata": {},
     "output_type": "execute_result"
    }
   ],
   "source": [
    "ftest['sel2_boson_mass'].values()"
   ]
  },
  {
   "cell_type": "code",
   "execution_count": 15,
   "id": "11410afa",
   "metadata": {},
   "outputs": [
    {
     "name": "stdout",
     "output_type": "stream",
     "text": [
      "sel1_boson_pt Hist(\n",
      "  StrCategory(['dyjets'], growth=True, name='dataset', label='Primary dataset'),\n",
      "  Regular(20, 70, 400, name='variable', label='variable'),\n",
      "  storage=Weight()) # Sum: WeightedSum(value=9557.51, variance=23232.6) (WeightedSum(value=9611.61, variance=23353.8) with flow)\n",
      "sel1_boson_mass Hist(\n",
      "  StrCategory(['dyjets'], growth=True, name='dataset', label='Primary dataset'),\n",
      "  Regular(40, 70, 110, name='variable', label='variable'),\n",
      "  storage=Weight()) # Sum: WeightedSum(value=9611.61, variance=23353.8)\n",
      "sel1_mjj Hist(\n",
      "  StrCategory(['dyjets'], growth=True, name='dataset', label='Primary dataset'),\n",
      "  Regular(20, 500, 2000, name='variable', label='variable'),\n",
      "  storage=Weight()) # Sum: WeightedSum(value=9495.92, variance=22996.8) (WeightedSum(value=9611.61, variance=23353.8) with flow)\n",
      "sel2_boson_pt Hist(\n",
      "  StrCategory(['dyjets'], growth=True, name='dataset', label='Primary dataset'),\n",
      "  Regular(20, 70, 400, name='variable', label='variable'),\n",
      "  storage=Weight()) # Sum: WeightedSum(value=6609.8, variance=16141.1) (WeightedSum(value=6641.78, variance=16236.2) with flow)\n",
      "sel2_boson_mass Hist(\n",
      "  StrCategory(['dyjets'], growth=True, name='dataset', label='Primary dataset'),\n",
      "  Regular(40, 70, 110, name='variable', label='variable'),\n",
      "  storage=Weight()) # Sum: WeightedSum(value=6641.78, variance=16236.2)\n",
      "sel2_mjj Hist(\n",
      "  StrCategory(['dyjets'], growth=True, name='dataset', label='Primary dataset'),\n",
      "  Regular(21, 500, 2000, name='variable', label='variable'),\n",
      "  storage=Weight()) # Sum: WeightedSum(value=6542.83, variance=15986.4) (WeightedSum(value=6641.78, variance=16236.2) with flow)\n"
     ]
    }
   ],
   "source": [
    "scaled = {}\n",
    "for name, h in ftest.items():\n",
    "    if isinstance(h, hist.Hist):\n",
    "        print(name,h)\n",
    "        scaled[name] = h.copy()"
   ]
  },
  {
   "cell_type": "code",
   "execution_count": 36,
   "id": "bf7ecce3",
   "metadata": {},
   "outputs": [
    {
     "data": {
      "text/html": [
       "<html>\n",
       "<div style=\"display:flex; align-items:center;\">\n",
       "<div style=\"width:290px;\">\n",
       "<svg xmlns=\"http://www.w3.org/2000/svg\" viewBox=\"-10 -105 270 120\">\n",
       "<line x1=\"-5\" y1=\"0\" x2=\"255\" y2=\"0\" style=\"fill:none;stroke-width:2;stroke:currentColor\"/>\n",
       "<text text-anchor=\"middle\" x=\"0\" y=\"15\" style=\"fill:currentColor;\">\n",
       "70\n",
       "</text>\n",
       "<text text-anchor=\"middle\" x=\"250\" y=\"15\" style=\"fill:currentColor;\">\n",
       "110\n",
       "</text>\n",
       "<text text-anchor=\"middle\" x=\"125.0\" y=\"15\" style=\"fill:currentColor;\">\n",
       "variable\n",
       "</text>\n",
       "<polyline points=\"  0,0   0,-0 6.25,-0 6.25,-0 12.5,-0 12.5,-0 18.75,-0 18.75,-0  25,-0  25,-0 31.25,-0 31.25,-0 37.5,-0 37.5,-1.91 43.75,-1.91 43.75,-2.05  50,-2.05  50,-2.66 56.25,-2.66 56.25,-2.43 62.5,-2.43 62.5,-3.94 68.75,-3.94 68.75,-3.31  75,-3.31  75,-7.53 81.25,-7.53 81.25,-5.85 87.5,-5.85 87.5,-10.1 93.75,-10.1 93.75,-13.2 100,-13.2 100,-18.7 106.25,-18.7 106.25,-30.2 112.5,-30.2 112.5,-48.8 118.75,-48.8 118.75,-80.1 125,-80.1 125,-90.7 131.25,-90.7 131.25,-100 137.5,-100 137.5,-72 143.75,-72 143.75,-43.6 150,-43.6 150,-27.8 156.25,-27.8 156.25,-20.4 162.5,-20.4 162.5,-12.1 168.75,-12.1 168.75,-9.47 175,-9.47 175,-7.37 181.25,-7.37 181.25,-3.35 187.5,-3.35 187.5,-3.49 193.75,-3.49 193.75,-0.94 200,-0.94 200,-2.71 206.25,-2.71 206.25,-1.59 212.5,-1.59 212.5,-1.62 218.75,-1.62 218.75,-0.518 225,-0.518 225,-0 231.25,-0 231.25,-0 237.5,-0 237.5,-0 243.75,-0 243.75,-0 250,-0 250,0\" style=\"fill:none; stroke:currentColor;\"/>\n",
       "</svg>\n",
       "</div>\n",
       "<div style=\"flex=grow:1;\">\n",
       "Regular(40, 70, 110, name='variable', label='variable')<br/>\n",
       "<hr style=\"margin-top:.2em; margin-bottom:.2em;\"/>\n",
       "Weight() Σ=WeightedSum(value=9611.61, variance=23353.8)\n",
       "\n",
       "</div>\n",
       "</div>\n",
       "</html>"
      ],
      "text/plain": [
       "Hist(Regular(40, 70, 110, name='variable', label='variable'), storage=Weight()) # Sum: WeightedSum(value=9611.61, variance=23353.8)"
      ]
     },
     "execution_count": 36,
     "metadata": {},
     "output_type": "execute_result"
    }
   ],
   "source": [
    "scaled['sel1_boson_mass'][0,:]"
   ]
  },
  {
   "cell_type": "code",
   "execution_count": 17,
   "id": "d1db8997",
   "metadata": {},
   "outputs": [
    {
     "data": {
      "text/plain": [
       "[StairsArtists(stairs=<matplotlib.patches.StepPatch object at 0x7f774de48700>, errorbar=<ErrorbarContainer object of 3 artists>, legend_artist=<ErrorbarContainer object of 3 artists>)]"
      ]
     },
     "execution_count": 17,
     "metadata": {},
     "output_type": "execute_result"
    },
    {
     "data": {
      "image/png": "[encoded data removed]",
      "text/plain": [
       "<Figure size 432x288 with 1 Axes>"
      ]
     },
     "metadata": {
      "needs_background": "light"
     },
     "output_type": "display_data"
    }
   ],
   "source": [
    "fig, ax = plt.subplots()\n",
    "ftest['sel2_mjj'].plot1d(ax=ax, overlay='dataset')"
   ]
  },
  {
   "cell_type": "code",
   "execution_count": 18,
   "id": "cab478bb",
   "metadata": {},
   "outputs": [
    {
     "name": "stdout",
     "output_type": "stream",
     "text": [
      "sel1_boson_pt Hist(\n",
      "  StrCategory(['dyjets'], growth=True, name='dataset', label='Primary dataset'),\n",
      "  Regular(20, 70, 400, name='variable', label='variable'),\n",
      "  storage=Weight()) # Sum: WeightedSum(value=9557.51, variance=23232.6) (WeightedSum(value=9611.61, variance=23353.8) with flow)\n",
      "sel1_boson_mass Hist(\n",
      "  StrCategory(['dyjets'], growth=True, name='dataset', label='Primary dataset'),\n",
      "  Regular(40, 70, 110, name='variable', label='variable'),\n",
      "  storage=Weight()) # Sum: WeightedSum(value=9611.61, variance=23353.8)\n",
      "sel1_mjj Hist(\n",
      "  StrCategory(['dyjets'], growth=True, name='dataset', label='Primary dataset'),\n",
      "  Regular(20, 500, 2000, name='variable', label='variable'),\n",
      "  storage=Weight()) # Sum: WeightedSum(value=9495.92, variance=22996.8) (WeightedSum(value=9611.61, variance=23353.8) with flow)\n",
      "sel2_boson_pt Hist(\n",
      "  StrCategory(['dyjets'], growth=True, name='dataset', label='Primary dataset'),\n",
      "  Regular(20, 70, 400, name='variable', label='variable'),\n",
      "  storage=Weight()) # Sum: WeightedSum(value=6609.8, variance=16141.1) (WeightedSum(value=6641.78, variance=16236.2) with flow)\n",
      "sel2_boson_mass Hist(\n",
      "  StrCategory(['dyjets'], growth=True, name='dataset', label='Primary dataset'),\n",
      "  Regular(40, 70, 110, name='variable', label='variable'),\n",
      "  storage=Weight()) # Sum: WeightedSum(value=6641.78, variance=16236.2)\n",
      "sel2_mjj Hist(\n",
      "  StrCategory(['dyjets'], growth=True, name='dataset', label='Primary dataset'),\n",
      "  Regular(21, 500, 2000, name='variable', label='variable'),\n",
      "  storage=Weight()) # Sum: WeightedSum(value=6542.83, variance=15986.4) (WeightedSum(value=6641.78, variance=16236.2) with flow)\n"
     ]
    }
   ],
   "source": [
    "scaled = {}\n",
    "for name, h in ftest.items():\n",
    "    if isinstance(h, hist.Hist):\n",
    "        scaled[name] = h.copy()\n",
    "        print(name,h)"
   ]
  },
  {
   "cell_type": "code",
   "execution_count": 19,
   "id": "aeba27d3",
   "metadata": {},
   "outputs": [
    {
     "data": {
      "text/plain": [
       "defaultdict(float, {'dyjets': 131550065.0})"
      ]
     },
     "execution_count": 19,
     "metadata": {},
     "output_type": "execute_result"
    }
   ],
   "source": [
    "ftest['sumsign']"
   ]
  },
  {
   "cell_type": "code",
   "execution_count": 20,
   "id": "72ef29fc",
   "metadata": {},
   "outputs": [
    {
     "data": {
      "text/plain": [
       "array([[3362.19866669, 2214.23031688, 1216.46060812,  791.92017692,\n",
       "         571.04384756,  366.43748397,  254.0075866 ,  196.84506786,\n",
       "         160.60586745,   92.90988469,   58.60014677,   57.87422711,\n",
       "          61.58840179,   32.59587353,   30.22787899,   22.05250478,\n",
       "          20.98050392,   18.05073947,   19.01546204,    9.86390227]])"
      ]
     },
     "execution_count": 20,
     "metadata": {},
     "output_type": "execute_result"
    }
   ],
   "source": [
    "scaled['sel1_boson_pt'].values()"
   ]
  },
  {
   "cell_type": "code",
   "execution_count": 21,
   "id": "c55627cb",
   "metadata": {},
   "outputs": [
    {
     "data": {
      "image/png": "[encoded data removed]",
      "text/plain": [
       "<Figure size 432x288 with 1 Axes>"
      ]
     },
     "metadata": {
      "needs_background": "light"
     },
     "output_type": "display_data"
    }
   ],
   "source": [
    "fig, ax = plt.subplots()\n",
    "h=scaled['sel1_boson_pt'].copy()\n",
    "h[:, ::hist.rebin(4)].plot1d(ax=ax, overlay='dataset');"
   ]
  },
  {
   "cell_type": "code",
   "execution_count": 22,
   "id": "6a2c4f62",
   "metadata": {},
   "outputs": [
    {
     "data": {
      "text/plain": [
       "[StairsArtists(stairs=<matplotlib.patches.StepPatch object at 0x7f774dd0e970>, errorbar=<ErrorbarContainer object of 3 artists>, legend_artist=<ErrorbarContainer object of 3 artists>)]"
      ]
     },
     "execution_count": 22,
     "metadata": {},
     "output_type": "execute_result"
    },
    {
     "data": {
      "image/png": "[encoded data removed]",
      "text/plain": [
       "<Figure size 432x288 with 1 Axes>"
      ]
     },
     "metadata": {
      "needs_background": "light"
     },
     "output_type": "display_data"
    }
   ],
   "source": [
    "fig, ax = plt.subplots()\n",
    "ftest['sel1_boson_pt'].plot1d(ax=ax, overlay='dataset')"
   ]
  },
  {
   "cell_type": "code",
   "execution_count": 23,
   "id": "35a05218",
   "metadata": {},
   "outputs": [
    {
     "data": {
      "text/plain": [
       "array([[3362.19866669, 2214.23031688, 1216.46060812,  791.92017692,\n",
       "         571.04384756,  366.43748397,  254.0075866 ,  196.84506786,\n",
       "         160.60586745,   92.90988469,   58.60014677,   57.87422711,\n",
       "          61.58840179,   32.59587353,   30.22787899,   22.05250478,\n",
       "          20.98050392,   18.05073947,   19.01546204,    9.86390227]])"
      ]
     },
     "execution_count": 23,
     "metadata": {},
     "output_type": "execute_result"
    }
   ],
   "source": [
    "h.counts()"
   ]
  },
  {
   "cell_type": "code",
   "execution_count": 26,
   "id": "cc7cd2e4",
   "metadata": {},
   "outputs": [
    {
     "data": {
      "text/plain": [
       "defaultdict(float, {'dyjets': 195477687.0, 'egamma': 0.0})"
      ]
     },
     "execution_count": 26,
     "metadata": {},
     "output_type": "execute_result"
    }
   ],
   "source": [
    "ftest['nevents']"
   ]
  },
  {
   "cell_type": "code",
   "execution_count": null,
   "id": "4f3473da",
   "metadata": {},
   "outputs": [],
   "source": []
  }
 ],
 "metadata": {
  "kernelspec": {
   "display_name": "Python 3",
   "language": "python",
   "name": "python3"
  },
  "language_info": {
   "codemirror_mode": {
    "name": "ipython",
    "version": 3
   },
   "file_extension": ".py",
   "mimetype": "text/x-python",
   "name": "python",
   "nbconvert_exporter": "python",
   "pygments_lexer": "ipython3",
   "version": "3.9.12"
  }
 },
 "nbformat": 4,
 "nbformat_minor": 5
}
