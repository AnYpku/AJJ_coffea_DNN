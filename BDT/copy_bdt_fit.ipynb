{
 "cells": [
  {
   "cell_type": "code",
   "execution_count": 1,
   "id": "e8e936fa",
   "metadata": {},
   "outputs": [
    {
     "name": "stdout",
     "output_type": "stream",
     "text": [
      "Welcome to JupyROOT 6.26/04\n"
     ]
    }
   ],
   "source": [
    "import uproot\n",
    "import glob\n",
    "import pandas as pd\n",
    "from tqdm import tqdm\n",
    "\n",
    "import numpy as np\n",
    "import awkward as ak\n",
    "import ROOT\n",
    "import matplotlib.pyplot as plt"
   ]
  },
  {
   "cell_type": "code",
   "execution_count": 2,
   "id": "563b3a68",
   "metadata": {},
   "outputs": [
    {
     "name": "stdout",
     "output_type": "stream",
     "text": [
      "Default principal: yian@CERN.CH\n"
     ]
    }
   ],
   "source": [
    "username = \"yian\"\n",
    "import getpass\n",
    "import os\n",
    "if os.system('klist | grep Default | grep ' + username + '@CERN.CH'):\n",
    "    os.system('echo %s' % getpass.getpass() + \" | kinit \" + username)"
   ]
  },
  {
   "cell_type": "code",
   "execution_count": 3,
   "id": "646c8e27",
   "metadata": {},
   "outputs": [],
   "source": [
    "year=\"18\"\n",
    "root_sig = glob.glob(\"/eos/user/y/yian/AJJ_analysis/add_weight/chain_combine/cutjet-EWAjj*\"+year+\".root\")\n",
    "root_bkg = glob.glob(\"/eos/user/y/yian/AJJ_analysis/add_weight/chain_combine/cutjet-GJets150ToInf*\"+year+\".root\")"
   ]
  },
  {
   "cell_type": "code",
   "execution_count": 4,
   "id": "ab4e7279",
   "metadata": {},
   "outputs": [
    {
     "name": "stdout",
     "output_type": "stream",
     "text": [
      "['/eos/user/y/yian/AJJ_analysis/add_weight/chain_combine/cutjet-GJets150ToInf_18.root'] ['/eos/user/y/yian/AJJ_analysis/add_weight/chain_combine/cutjet-EWAjjLO_18.root', '/eos/user/y/yian/AJJ_analysis/add_weight/chain_combine/cutjet-EWAjj_18.root']\n"
     ]
    }
   ],
   "source": [
    "print(root_bkg,root_sig)"
   ]
  },
  {
   "cell_type": "code",
   "execution_count": 5,
   "id": "dea1b667",
   "metadata": {},
   "outputs": [],
   "source": [
    "branch = uproot.open(root_sig[1]+\":Events\").keys()\n",
    "necessary_columns=[]\n",
    "unnecessary_columns=['vjj_jets','vjj_mus','vjj_eles','vjj_photons','vjj_loosePhotons']\n",
    "for i in branch:\n",
    "    if ('vjj_' in i and 'gen' not in i and i not in unnecessary_columns) or ('eff' in i) or ('scalef' in i):        \n",
    "        necessary_columns.append(i)"
   ]
  },
  {
   "cell_type": "code",
   "execution_count": 6,
   "id": "802c0590",
   "metadata": {},
   "outputs": [],
   "source": [
    "signal = uproot.lazy(root_sig[1]+':Events')[necessary_columns]\n",
    "sig=pd.DataFrame(signal[necessary_columns].to_numpy()).query(\"vjj_isGood==1 & vjj_jj_m>500 & vjj_v_pt>200 & vjj_lead_pt>50 & vjj_sublead_pt>50 & vjj_trig>0\")"
   ]
  },
  {
   "cell_type": "code",
   "execution_count": 8,
   "id": "6fa39ccd",
   "metadata": {},
   "outputs": [],
   "source": [
    "background=uproot.lazy(root_bkg[0]+':Events')[necessary_columns]\n",
    "bkg=pd.DataFrame(background[necessary_columns].to_numpy()).query(\"vjj_isGood==1 & vjj_jj_m>500 & vjj_v_pt>200 & vjj_lead_pt>50 & vjj_sublead_pt>50 & vjj_trig>0\")"
   ]
  },
  {
   "cell_type": "code",
   "execution_count": 9,
   "id": "afe29090",
   "metadata": {},
   "outputs": [],
   "source": [
    "sig['isSignal']=1\n",
    "bkg['isSignal']=0"
   ]
  },
  {
   "cell_type": "code",
   "execution_count": null,
   "id": "5a81d22b",
   "metadata": {},
   "outputs": [],
   "source": [
    "features=['vjj_jj_m','vjj_v_ystar','vjj_jj_dphi','vjj_vjj_scalarht','vjj_lead_qgl','vjj_vjj_dphi','vjj_vjj_circularity','vjj_sublead_qgl','vjj_jj_pt','vjj_vjj_D','vjj_vjj_C','vjj_sublead_pt','vjj_jj_deta','vjj_vjj_aplanarity']"
   ]
  },
  {
   "cell_type": "code",
   "execution_count": null,
   "id": "5b3530b5",
   "metadata": {},
   "outputs": [],
   "source": [
    "df = pd.concat([sig,bkg],ignore_index=True)"
   ]
  },
  {
   "cell_type": "code",
   "execution_count": null,
   "id": "e1a06c12",
   "metadata": {},
   "outputs": [],
   "source": [
    "from sklearn.model_selection import train_test_split\n",
    "from xgboost import XGBClassifier"
   ]
  },
  {
   "cell_type": "code",
   "execution_count": null,
   "id": "0c125033",
   "metadata": {},
   "outputs": [],
   "source": [
    "X=df[features]\n",
    "Y=df['isSignal']\n",
    "    #random_state is the seed used by the random number generator, \n",
    "    #random_state=42 make others get the same data spliting in different executions.\n",
    "    # shuffle make the bkg and signal mix randomly.\n",
    "X_train, X_test, y_train, y_test = train_test_split(X, Y, test_size=0.3, \n",
    "                                                        random_state=42,shuffle=True)"
   ]
  },
  {
   "cell_type": "code",
   "execution_count": null,
   "id": "6e11951c",
   "metadata": {},
   "outputs": [],
   "source": [
    "xgbc = XGBClassifier(eval_metric = \"auc\").fit(X_train, y_train)\n",
    "xgbc.save_model(\"model.json\")\n",
    "\n",
    "model=xgb.Booster()\n",
    "model.load_model(\"./model.json\")"
   ]
  },
  {
   "cell_type": "code",
   "execution_count": null,
   "id": "58a1273d",
   "metadata": {},
   "outputs": [],
   "source": [
    "y=pd.DataFrame(y_test,columns=['isSignal'])\n",
    "\n",
    "test_score_xgb = xgbc.predict_proba(X_test)\n",
    "test_score_xgb_sig = test_score_xgb[:,1]\n",
    "\n",
    "dtest=xgb.DMatrix(X_test)\n",
    "y['score']=model.predict(dtest)\n",
    "\n",
    "plt.hist(y.query('isSignal==1')['score'],label = \"Sig\",histtype=\"step\",bins = np.linspace(0,1),density=True)\n",
    "plt.hist(y.query('isSignal==0')['score'],label = \"Bkg\",histtype=\"step\",bins = np.linspace(0,1),density=True)\n",
    "plt.legend()\n",
    "plt.xlim(0,1)\n",
    "plt.savefig('separation.pdf')"
   ]
  },
  {
   "cell_type": "code",
   "execution_count": null,
   "id": "142e857b",
   "metadata": {},
   "outputs": [],
   "source": [
    "import sklearn.metrics as m\n",
    "from sklearn.metrics import roc_curve, auc\n",
    "fpr_xgb, tpr_xgb, _thres = m.roc_curve(y_test,test_score_xgb[:,1])\n",
    "\n",
    "roc_auc = auc(fpr_xgb, tpr_xgb)\n",
    "\n",
    "f, ax = plt.subplots(figsize=(8, 8))\n",
    "#ax.plot(np.linspace(0, 1, 1000), np.linspace(0, 1, 1000), '--', label='random')\n",
    "ax.plot(fpr_xgb, tpr_xgb, label='XGBoost Classifier (area = %0.2f)'% roc_auc)\n",
    "\n",
    "#ax.set_yscale('log');\n",
    "ax.set_xlim(0, 1); ax.set_ylim(1e-3, 1)\n",
    "ax.set_xlabel('Backgroun efficiency', ha='right', x=1.0); ax.set_ylabel('Signal efficiency', ha='right', y=1.0)\n",
    "ax.legend()\n",
    "plt.savefig('ROC.pdf')"
   ]
  },
  {
   "cell_type": "code",
   "execution_count": null,
   "id": "e3767686",
   "metadata": {},
   "outputs": [],
   "source": [
    "from xgboost import plot_importance\n",
    "plt.figure(figsize = (10,10))\n",
    "ax = plt.subplot(111)\n",
    "plot_importance(xgbc,ax=ax)\n",
    "plt.savefig('Feature_importance.pdf')"
   ]
  },
  {
   "cell_type": "code",
   "execution_count": null,
   "id": "c7647691",
   "metadata": {},
   "outputs": [],
   "source": [
    "score_sig=xgbc.predict_proba(sig[features])[:,1]\n",
    "score_bkg=xgbc.predict_proba(bkg[features])[:,1]\n",
    "sig['score']=score_sig\n",
    "bkg['score']=score_bkg"
   ]
  },
  {
   "cell_type": "code",
   "execution_count": null,
   "id": "e35653cd",
   "metadata": {},
   "outputs": [],
   "source": [
    "plt.hist(bkg['score'],label = \"BKG\",histtype=\"step\",bins = np.linspace(0,1),density=False,weights=bkg['scalef']*bkg['vjj_photon_effWgt']*59.7)\n",
    "plt.hist(sig['score'],label = \"SIG\",histtype=\"step\",bins = np.linspace(0,1),density=False,weights=sig['scalef']*sig['vjj_photon_effWgt']*59.7)\n",
    "plt.yscale('symlog')\n",
    "plt.ylabel('Events')\n",
    "plt.legend()\n",
    "plt.xlim(-0.1,1.1)\n",
    "#plt.savefig('sig_bkg_distribution.pdf')"
   ]
  },
  {
   "cell_type": "code",
   "execution_count": null,
   "id": "cb2086a5",
   "metadata": {},
   "outputs": [],
   "source": [
    "dsig=xgb.DMatrix(sig[features])\n",
    "dbkg=xgb.DMatrix(bkg[features])\n",
    "sig['score1']=model.predict(dsig)\n",
    "bkg['score1']=model.predict(dbkg)"
   ]
  },
  {
   "cell_type": "code",
   "execution_count": null,
   "id": "05e18721",
   "metadata": {},
   "outputs": [],
   "source": [
    "plt.hist(bkg['score1'],label = \"BKG\",histtype=\"step\",bins = np.linspace(0,1),density=False)\n",
    "plt.hist(sig['score1'], label = \"SIG\",histtype=\"step\",bins = np.linspace(0,1),density=False)\n",
    "plt.yscale('symlog')\n",
    "plt.ylabel('Events')\n",
    "plt.legend()\n",
    "plt.xlim(-0.1,1.1)"
   ]
  },
  {
   "cell_type": "code",
   "execution_count": null,
   "id": "a36ad41f",
   "metadata": {},
   "outputs": [],
   "source": [
    "plt.hist(bkg['score1'],label = \"BKG\",histtype=\"step\",bins = np.linspace(0,1),density=False,weights=bkg['scalef']*bkg['vjj_photon_effWgt']*59.7)\n",
    "plt.hist(sig['score1'], label = \"SIG\",histtype=\"step\",bins = np.linspace(0,1),density=False,weights=sig['scalef']*sig['vjj_photon_effWgt']*59.7)\n",
    "plt.yscale('symlog')\n",
    "plt.ylabel('Events')\n",
    "plt.legend()\n",
    "plt.xlim(-0.1,1.1)"
   ]
  }
 ],
 "metadata": {
  "kernelspec": {
   "display_name": "Python 3",
   "language": "python",
   "name": "python3"
  },
  "language_info": {
   "codemirror_mode": {
    "name": "ipython",
    "version": 3
   },
   "file_extension": ".py",
   "mimetype": "text/x-python",
   "name": "python",
   "nbconvert_exporter": "python",
   "pygments_lexer": "ipython3",
   "version": "3.9.12"
  }
 },
 "nbformat": 4,
 "nbformat_minor": 5
}
