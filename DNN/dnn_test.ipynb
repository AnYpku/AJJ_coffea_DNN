{
 "cells": [
  {
   "cell_type": "code",
   "execution_count": null,
   "id": "e4e7c3b5",
   "metadata": {},
   "outputs": [],
   "source": [
    "#import sys\n",
    "#print(sys.path)\n",
    "#sys.path.insert(0,'/afs/desy.de/user/y/yian/.local/bin')\n",
    "#print(sys.path)"
   ]
  },
  {
   "cell_type": "code",
   "execution_count": null,
   "id": "cd9e1085",
   "metadata": {},
   "outputs": [],
   "source": [
    "import tensorflow\n",
    "tensorflow.__file__"
   ]
  },
  {
   "cell_type": "code",
   "execution_count": null,
   "id": "c11ee48e",
   "metadata": {},
   "outputs": [],
   "source": [
    "import keras\n",
    "from keras.models import Sequential\n",
    "from keras.layers import Dense\n",
    "from keras import backend as K"
   ]
  },
  {
   "cell_type": "code",
   "execution_count": null,
   "id": "60e5f4bf",
   "metadata": {},
   "outputs": [],
   "source": [
    "import uproot\n",
    "import awkward as ak\n",
    "import numpy as np\n",
    "import pandas as pd\n",
    "import glob\n",
    "from tqdm import tqdm"
   ]
  },
  {
   "cell_type": "code",
   "execution_count": null,
   "id": "58f507d0",
   "metadata": {},
   "outputs": [],
   "source": [
    "basedir = '/nfs/dust/cms/user/yian/ajj/'\n",
    "year=\"18\"\n",
    "root_sig = glob.glob(basedir+\"*EW*\"+year+\".root\")\n",
    "root_bkg = glob.glob(basedir+\"*GJets*\"+year+\".root\")"
   ]
  },
  {
   "cell_type": "code",
   "execution_count": null,
   "id": "0be0ab77",
   "metadata": {},
   "outputs": [],
   "source": [
    "print(root_bkg,root_sig)"
   ]
  },
  {
   "cell_type": "code",
   "execution_count": null,
   "id": "1ec9184f",
   "metadata": {},
   "outputs": [],
   "source": [
    "branch = uproot.open(root_sig[1]+\":Events\").keys()\n",
    "necessary_columns=[]\n",
    "unnecessary_columns=['vjj_jets','vjj_mus','vjj_eles','vjj_photons','vjj_loosePhotons']\n",
    "for i in branch:\n",
    "    if ('vjj_' in i and 'gen' not in i and i not in unnecessary_columns) or ('eff' in i) or ('scalef' in i):        \n",
    "        necessary_columns.append(i)\n",
    "print('select necessary branches')"
   ]
  },
  {
   "cell_type": "code",
   "execution_count": null,
   "id": "c5de3d65",
   "metadata": {},
   "outputs": [],
   "source": [
    "signal = uproot.lazy(root_sig[1]+':Events')[necessary_columns]\n",
    "sig=pd.DataFrame(signal[necessary_columns].to_numpy()).query(\"vjj_isGood==1 & vjj_jj_m>500 & vjj_v_pt>200 & vjj_lead_pt>50 & vjj_sublead_pt>50 & vjj_trig>0\")\n",
    "background=uproot.lazy(root_bkg[0]+':Events')[necessary_columns]\n",
    "bkg=pd.DataFrame(background[necessary_columns].to_numpy()).query(\"vjj_isGood==1 & vjj_jj_m>500 & vjj_v_pt>200 & vjj_lead_pt>50 & vjj_sublead_pt>50 & vjj_trig>0\")\n",
    "sig['isSignal']=1\n",
    "bkg['isSignal']=0"
   ]
  },
  {
   "cell_type": "code",
   "execution_count": null,
   "id": "de6792a5",
   "metadata": {},
   "outputs": [],
   "source": [
    "sig['vjj_dphi']=abs(sig['vjj_v_phi']-sig['vjj_jj_phi'])\n",
    "bkg['vjj_dphi']=abs(bkg['vjj_v_phi']-bkg['vjj_jj_phi'])\n",
    "bkg['vjj_zepp']=abs(bkg['vjj_v_eta']-(bkg['vjj_lead_eta']+bkg['vjj_sublead_eta'])/2)\n",
    "sig['vjj_zepp']=abs(sig['vjj_v_eta']-(sig['vjj_lead_eta']+sig['vjj_sublead_eta'])/2)               "
   ]
  },
  {
   "cell_type": "code",
   "execution_count": null,
   "id": "6c73b3ef",
   "metadata": {},
   "outputs": [],
   "source": [
    "sig.loc[sig.query('vjj_dphi>3.14').index,'vjj_dphi']=2*3.14-sig.query('vjj_dphi>3.14')['vjj_dphi']\n",
    "bkg.loc[bkg.query('vjj_dphi>3.14').index,'vjj_dphi']=2*3.14-bkg.query('vjj_dphi>3.14')['vjj_dphi']"
   ]
  },
  {
   "cell_type": "code",
   "execution_count": null,
   "id": "c873af29",
   "metadata": {},
   "outputs": [],
   "source": [
    "sig['isBkg']=0\n",
    "bkg['isBkg']=1"
   ]
  },
  {
   "cell_type": "code",
   "execution_count": null,
   "id": "d295ca45",
   "metadata": {},
   "outputs": [],
   "source": [
    "df = pd.concat([sig,bkg],ignore_index=True)\n",
    "print('combine signal and background') "
   ]
  },
  {
   "cell_type": "code",
   "execution_count": null,
   "id": "e66a69a7",
   "metadata": {},
   "outputs": [],
   "source": [
    "features=['vjj_jj_m','vjj_jj_dphi','vjj_jj_pt','vjj_jj_deta','vjj_v_ystar','vjj_vjj_aplanarity','vjj_vjj_C','vjj_vjj_dphi','vjj_vjj_circularity','vjj_sublead_pt','vjj_lead_qgl','vjj_sublead_qgl']\n",
    "features.append('vjj_lead_pt')\n",
    "features.append('vjj_vjj_deta')\n",
    "features.append('vjj_vjj_isotropy')\n",
    "features.append('vjj_vjj_eta')\n",
    "features.append('vjj_zepp')\n",
    "features.append('vjj_dphi')"
   ]
  },
  {
   "cell_type": "code",
   "execution_count": null,
   "id": "bd60883e",
   "metadata": {},
   "outputs": [],
   "source": [
    "X=df[features]\n",
    "Y=df[['isSignal','isBkg']]"
   ]
  },
  {
   "cell_type": "code",
   "execution_count": null,
   "id": "2c203cd1",
   "metadata": {},
   "outputs": [],
   "source": [
    "print(X.shape,Y.shape)"
   ]
  },
  {
   "cell_type": "code",
   "execution_count": null,
   "id": "82bf7714",
   "metadata": {},
   "outputs": [],
   "source": [
    "from sklearn.model_selection import train_test_split\n",
    "X_train, X_test, y_train, y_test = train_test_split(X, Y, test_size=0.4)"
   ]
  },
  {
   "cell_type": "code",
   "execution_count": null,
   "id": "3baf1cb4",
   "metadata": {},
   "outputs": [],
   "source": [
    "df.loc[X_train.index,'scalef']"
   ]
  },
  {
   "cell_type": "code",
   "execution_count": null,
   "id": "0223e48d",
   "metadata": {},
   "outputs": [],
   "source": [
    "import keras\n",
    "from keras.models import Sequential\n",
    "from keras.layers import Dense\n",
    "from keras import backend as K\n",
    "\n",
    "model = Sequential()\n",
    "\n",
    "# model.add: to add a layer to our neural network\n",
    "model.add(Dense(18, input_dim=X_train.shape[1], activation='relu'))\n",
    "model.add(Dense(20, activation='relu'))\n",
    "model.add(Dense(2, activation='softmax'))\n",
    "# show a summary\n",
    "model.summary()\n",
    "\n",
    "# Specify the loss and optimizer\n",
    "model.compile(loss='categorical_crossentropy', optimizer='adam', metrics=['accuracy'])"
   ]
  },
  {
   "cell_type": "code",
   "execution_count": null,
   "id": "b6a2049e",
   "metadata": {},
   "outputs": [],
   "source": [
    "history = model.fit(X_train, y_train, epochs=30, batch_size=500)#sample_weight=df.loc[X_train.index,'scalef']\n",
    "                    "
   ]
  },
  {
   "cell_type": "code",
   "execution_count": null,
   "id": "e2986bba",
   "metadata": {},
   "outputs": [],
   "source": [
    "_, accuracy = model.evaluate(X_test, y_test)\n",
    "print('Accuracy: %.2f' % (accuracy*100))"
   ]
  },
  {
   "cell_type": "code",
   "execution_count": null,
   "id": "0ffe9518",
   "metadata": {},
   "outputs": [],
   "source": [
    "import boost_histogram as bh\n",
    "import matplotlib.pyplot as plt\n",
    "import matplotlib as mpl\n",
    "import mplhep as hep"
   ]
  },
  {
   "cell_type": "code",
   "execution_count": null,
   "id": "bc2c7624",
   "metadata": {},
   "outputs": [],
   "source": [
    "np.where(np.array(y_test)[:, 0] == True)[0]"
   ]
  },
  {
   "cell_type": "code",
   "execution_count": null,
   "id": "27ec4f24",
   "metadata": {},
   "outputs": [],
   "source": [
    "y_train"
   ]
  },
  {
   "cell_type": "code",
   "execution_count": null,
   "id": "072eeb50",
   "metadata": {},
   "outputs": [],
   "source": [
    "y_pred = model.predict(X_train)\n",
    "y_pred_sig_score = y_pred[:, 0] # score predicted for each event to be a \"signal event\"\n",
    "\n",
    "sig_index = np.where(np.array(y_train)[:, 0] == True)[0]\n",
    "bkg_index = np.where(np.array(y_train)[:, 0] == False)[0]\n",
    "f, ax = plt.subplots(figsize=(8, 8))\n",
    "for idx, lab in zip([sig_index, bkg_index], ['EW signal', 'QCD background']):\n",
    "    hist = bh.Histogram(bh.axis.Regular(50, 0., 1.), storage=bh.storage.Weight())\n",
    "    hist.fill(y_pred_sig_score[idx])\n",
    "    content, yerr = hist.view().value, np.sqrt(hist.view().variance)\n",
    "    # plot the histogram\n",
    "    hep.histplot(content, bins=hist.axes[0].edges, yerr=yerr, label=lab)\n",
    "ax.set_xlabel('NN score (signal-like)', ha='right', x=1.0)\n",
    "ax.set_ylabel('Events / bins', ha='right', y=1.0)\n",
    "ax.set_xlim(0, 1)\n",
    "ax.set_yscale('symlog')\n",
    "ax.legend()"
   ]
  },
  {
   "cell_type": "code",
   "execution_count": null,
   "id": "b84f57b8",
   "metadata": {},
   "outputs": [],
   "source": [
    "y_pred = model.predict(X_test)\n",
    "y_pred_sig_score = y_pred[:, 0] # score predicted for each event to be a \"signal event\"\n",
    "\n",
    "sig_index = np.where(np.array(y_test)[:, 0] == True)[0]\n",
    "bkg_index = np.where(np.array(y_test)[:, 0] == False)[0]\n",
    "f, ax = plt.subplots(figsize=(8, 8))\n",
    "for idx, lab in zip([sig_index, bkg_index], ['EW signal', 'QCD background']):\n",
    "    hist = bh.Histogram(bh.axis.Regular(50, 0., 1.), storage=bh.storage.Weight())\n",
    "    hist.fill(y_pred_sig_score[idx])\n",
    "    content, yerr = hist.view().value, np.sqrt(hist.view().variance)\n",
    "    # plot the histogram\n",
    "    hep.histplot(content, bins=hist.axes[0].edges, yerr=yerr, label=lab)\n",
    "ax.set_xlabel('NN score (signal-like)', ha='right', x=1.0)\n",
    "ax.set_ylabel('Events / bins', ha='right', y=1.0)\n",
    "ax.set_xlim(0, 1)\n",
    "ax.legend()"
   ]
  }
 ],
 "metadata": {
  "kernelspec": {
   "display_name": "Python 3",
   "language": "python",
   "name": "python3"
  },
  "language_info": {
   "codemirror_mode": {
    "name": "ipython",
    "version": 3
   },
   "file_extension": ".py",
   "mimetype": "text/x-python",
   "name": "python",
   "nbconvert_exporter": "python",
   "pygments_lexer": "ipython3",
   "version": "3.9.12"
  }
 },
 "nbformat": 4,
 "nbformat_minor": 5
}
